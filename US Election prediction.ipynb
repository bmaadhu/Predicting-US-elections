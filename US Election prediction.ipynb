{
 "cells": [
  {
   "cell_type": "markdown",
   "id": "a78a0a7d-c91b-4ffe-817d-53543ae77f12",
   "metadata": {},
   "source": [
    "Research Question\n",
    "“Can voting patterns at the county level predict shifts in political party dominance over time?”\n",
    "\n",
    "This project will focus on analyzing shifts in county-level voting patterns for predictive modeling of future political dominance by county."
   ]
  },
  {
   "cell_type": "code",
   "execution_count": 18,
   "id": "7b86adab-dee9-43f0-a296-b17671f1cbaa",
   "metadata": {},
   "outputs": [],
   "source": [
    "#Import required libraries\n",
    "import pandas as pd\n",
    "import numpy as np\n",
    "import matplotlib.pyplot as plt\n",
    "import seaborn as sns\n",
    "from sklearn.model_selection import train_test_split\n",
    "from sklearn.preprocessing import StandardScaler, LabelEncoder\n",
    "from sklearn.linear_model import LogisticRegression\n",
    "from sklearn.ensemble import RandomForestClassifier\n",
    "from sklearn.metrics import classification_report, accuracy_score, confusion_matrix\n",
    "from tensorflow.keras.layers import Dense, LSTM"
   ]
  },
  {
   "cell_type": "code",
   "execution_count": 19,
   "id": "d01144a8-1ece-480e-aa46-0211856cf700",
   "metadata": {},
   "outputs": [
    {
     "name": "stdout",
     "output_type": "stream",
     "text": [
      "Requirement already satisfied: tensorflow in c:\\users\\bmaad\\anaconda3\\anakonda new\\lib\\site-packages (2.18.0)\n",
      "Requirement already satisfied: tensorflow-intel==2.18.0 in c:\\users\\bmaad\\anaconda3\\anakonda new\\lib\\site-packages (from tensorflow) (2.18.0)\n",
      "Requirement already satisfied: absl-py>=1.0.0 in c:\\users\\bmaad\\anaconda3\\anakonda new\\lib\\site-packages (from tensorflow-intel==2.18.0->tensorflow) (2.1.0)\n",
      "Requirement already satisfied: astunparse>=1.6.0 in c:\\users\\bmaad\\anaconda3\\anakonda new\\lib\\site-packages (from tensorflow-intel==2.18.0->tensorflow) (1.6.3)\n",
      "Requirement already satisfied: flatbuffers>=24.3.25 in c:\\users\\bmaad\\anaconda3\\anakonda new\\lib\\site-packages (from tensorflow-intel==2.18.0->tensorflow) (24.3.25)\n",
      "Requirement already satisfied: gast!=0.5.0,!=0.5.1,!=0.5.2,>=0.2.1 in c:\\users\\bmaad\\anaconda3\\anakonda new\\lib\\site-packages (from tensorflow-intel==2.18.0->tensorflow) (0.6.0)\n",
      "Requirement already satisfied: google-pasta>=0.1.1 in c:\\users\\bmaad\\anaconda3\\anakonda new\\lib\\site-packages (from tensorflow-intel==2.18.0->tensorflow) (0.2.0)\n",
      "Requirement already satisfied: libclang>=13.0.0 in c:\\users\\bmaad\\anaconda3\\anakonda new\\lib\\site-packages (from tensorflow-intel==2.18.0->tensorflow) (18.1.1)\n",
      "Requirement already satisfied: opt-einsum>=2.3.2 in c:\\users\\bmaad\\anaconda3\\anakonda new\\lib\\site-packages (from tensorflow-intel==2.18.0->tensorflow) (3.4.0)\n",
      "Requirement already satisfied: packaging in c:\\users\\bmaad\\anaconda3\\anakonda new\\lib\\site-packages (from tensorflow-intel==2.18.0->tensorflow) (23.1)\n",
      "Requirement already satisfied: protobuf!=4.21.0,!=4.21.1,!=4.21.2,!=4.21.3,!=4.21.4,!=4.21.5,<6.0.0dev,>=3.20.3 in c:\\users\\bmaad\\anaconda3\\anakonda new\\lib\\site-packages (from tensorflow-intel==2.18.0->tensorflow) (3.20.3)\n",
      "Requirement already satisfied: requests<3,>=2.21.0 in c:\\users\\bmaad\\anaconda3\\anakonda new\\lib\\site-packages (from tensorflow-intel==2.18.0->tensorflow) (2.31.0)\n",
      "Requirement already satisfied: setuptools in c:\\users\\bmaad\\anaconda3\\anakonda new\\lib\\site-packages (from tensorflow-intel==2.18.0->tensorflow) (68.2.2)\n",
      "Requirement already satisfied: six>=1.12.0 in c:\\users\\bmaad\\anaconda3\\anakonda new\\lib\\site-packages (from tensorflow-intel==2.18.0->tensorflow) (1.16.0)\n",
      "Requirement already satisfied: termcolor>=1.1.0 in c:\\users\\bmaad\\anaconda3\\anakonda new\\lib\\site-packages (from tensorflow-intel==2.18.0->tensorflow) (2.5.0)\n",
      "Requirement already satisfied: typing-extensions>=3.6.6 in c:\\users\\bmaad\\anaconda3\\anakonda new\\lib\\site-packages (from tensorflow-intel==2.18.0->tensorflow) (4.9.0)\n",
      "Requirement already satisfied: wrapt>=1.11.0 in c:\\users\\bmaad\\anaconda3\\anakonda new\\lib\\site-packages (from tensorflow-intel==2.18.0->tensorflow) (1.14.1)\n",
      "Requirement already satisfied: grpcio<2.0,>=1.24.3 in c:\\users\\bmaad\\anaconda3\\anakonda new\\lib\\site-packages (from tensorflow-intel==2.18.0->tensorflow) (1.67.1)\n",
      "Requirement already satisfied: tensorboard<2.19,>=2.18 in c:\\users\\bmaad\\anaconda3\\anakonda new\\lib\\site-packages (from tensorflow-intel==2.18.0->tensorflow) (2.18.0)\n",
      "Requirement already satisfied: keras>=3.5.0 in c:\\users\\bmaad\\anaconda3\\anakonda new\\lib\\site-packages (from tensorflow-intel==2.18.0->tensorflow) (3.6.0)\n",
      "Requirement already satisfied: numpy<2.1.0,>=1.26.0 in c:\\users\\bmaad\\anaconda3\\anakonda new\\lib\\site-packages (from tensorflow-intel==2.18.0->tensorflow) (1.26.4)\n",
      "Requirement already satisfied: h5py>=3.11.0 in c:\\users\\bmaad\\anaconda3\\anakonda new\\lib\\site-packages (from tensorflow-intel==2.18.0->tensorflow) (3.12.1)\n",
      "Requirement already satisfied: ml-dtypes<0.5.0,>=0.4.0 in c:\\users\\bmaad\\anaconda3\\anakonda new\\lib\\site-packages (from tensorflow-intel==2.18.0->tensorflow) (0.4.1)\n",
      "Requirement already satisfied: tensorflow-io-gcs-filesystem>=0.23.1 in c:\\users\\bmaad\\anaconda3\\anakonda new\\lib\\site-packages (from tensorflow-intel==2.18.0->tensorflow) (0.31.0)\n",
      "Requirement already satisfied: wheel<1.0,>=0.23.0 in c:\\users\\bmaad\\anaconda3\\anakonda new\\lib\\site-packages (from astunparse>=1.6.0->tensorflow-intel==2.18.0->tensorflow) (0.41.2)\n",
      "Requirement already satisfied: rich in c:\\users\\bmaad\\anaconda3\\anakonda new\\lib\\site-packages (from keras>=3.5.0->tensorflow-intel==2.18.0->tensorflow) (13.3.5)\n",
      "Requirement already satisfied: namex in c:\\users\\bmaad\\anaconda3\\anakonda new\\lib\\site-packages (from keras>=3.5.0->tensorflow-intel==2.18.0->tensorflow) (0.0.8)\n",
      "Requirement already satisfied: optree in c:\\users\\bmaad\\anaconda3\\anakonda new\\lib\\site-packages (from keras>=3.5.0->tensorflow-intel==2.18.0->tensorflow) (0.13.0)\n",
      "Requirement already satisfied: charset-normalizer<4,>=2 in c:\\users\\bmaad\\anaconda3\\anakonda new\\lib\\site-packages (from requests<3,>=2.21.0->tensorflow-intel==2.18.0->tensorflow) (2.0.4)\n",
      "Requirement already satisfied: idna<4,>=2.5 in c:\\users\\bmaad\\anaconda3\\anakonda new\\lib\\site-packages (from requests<3,>=2.21.0->tensorflow-intel==2.18.0->tensorflow) (3.4)\n",
      "Requirement already satisfied: urllib3<3,>=1.21.1 in c:\\users\\bmaad\\anaconda3\\anakonda new\\lib\\site-packages (from requests<3,>=2.21.0->tensorflow-intel==2.18.0->tensorflow) (2.0.7)\n",
      "Requirement already satisfied: certifi>=2017.4.17 in c:\\users\\bmaad\\anaconda3\\anakonda new\\lib\\site-packages (from requests<3,>=2.21.0->tensorflow-intel==2.18.0->tensorflow) (2024.2.2)\n",
      "Requirement already satisfied: markdown>=2.6.8 in c:\\users\\bmaad\\anaconda3\\anakonda new\\lib\\site-packages (from tensorboard<2.19,>=2.18->tensorflow-intel==2.18.0->tensorflow) (3.4.1)\n",
      "Requirement already satisfied: tensorboard-data-server<0.8.0,>=0.7.0 in c:\\users\\bmaad\\anaconda3\\anakonda new\\lib\\site-packages (from tensorboard<2.19,>=2.18->tensorflow-intel==2.18.0->tensorflow) (0.7.2)\n",
      "Requirement already satisfied: werkzeug>=1.0.1 in c:\\users\\bmaad\\anaconda3\\anakonda new\\lib\\site-packages (from tensorboard<2.19,>=2.18->tensorflow-intel==2.18.0->tensorflow) (2.2.3)\n",
      "Requirement already satisfied: MarkupSafe>=2.1.1 in c:\\users\\bmaad\\anaconda3\\anakonda new\\lib\\site-packages (from werkzeug>=1.0.1->tensorboard<2.19,>=2.18->tensorflow-intel==2.18.0->tensorflow) (2.1.3)\n",
      "Requirement already satisfied: markdown-it-py<3.0.0,>=2.2.0 in c:\\users\\bmaad\\anaconda3\\anakonda new\\lib\\site-packages (from rich->keras>=3.5.0->tensorflow-intel==2.18.0->tensorflow) (2.2.0)\n",
      "Requirement already satisfied: pygments<3.0.0,>=2.13.0 in c:\\users\\bmaad\\anaconda3\\anakonda new\\lib\\site-packages (from rich->keras>=3.5.0->tensorflow-intel==2.18.0->tensorflow) (2.15.1)\n",
      "Requirement already satisfied: mdurl~=0.1 in c:\\users\\bmaad\\anaconda3\\anakonda new\\lib\\site-packages (from markdown-it-py<3.0.0,>=2.2.0->rich->keras>=3.5.0->tensorflow-intel==2.18.0->tensorflow) (0.1.0)\n"
     ]
    }
   ],
   "source": [
    "!pip install tensorflow"
   ]
  },
  {
   "cell_type": "code",
   "execution_count": 20,
   "id": "b16c30f8-e1e5-4c46-80bf-c1be10144dbc",
   "metadata": {},
   "outputs": [
    {
     "data": {
      "text/html": [
       "<div>\n",
       "<style scoped>\n",
       "    .dataframe tbody tr th:only-of-type {\n",
       "        vertical-align: middle;\n",
       "    }\n",
       "\n",
       "    .dataframe tbody tr th {\n",
       "        vertical-align: top;\n",
       "    }\n",
       "\n",
       "    .dataframe thead th {\n",
       "        text-align: right;\n",
       "    }\n",
       "</style>\n",
       "<table border=\"1\" class=\"dataframe\">\n",
       "  <thead>\n",
       "    <tr style=\"text-align: right;\">\n",
       "      <th></th>\n",
       "      <th>year</th>\n",
       "      <th>state</th>\n",
       "      <th>state_po</th>\n",
       "      <th>county_name</th>\n",
       "      <th>county_fips</th>\n",
       "      <th>office</th>\n",
       "      <th>candidate</th>\n",
       "      <th>party</th>\n",
       "      <th>candidatevotes</th>\n",
       "      <th>totalvotes</th>\n",
       "      <th>version</th>\n",
       "      <th>mode</th>\n",
       "    </tr>\n",
       "  </thead>\n",
       "  <tbody>\n",
       "    <tr>\n",
       "      <th>0</th>\n",
       "      <td>2000</td>\n",
       "      <td>ALABAMA</td>\n",
       "      <td>AL</td>\n",
       "      <td>AUTAUGA</td>\n",
       "      <td>1001.0</td>\n",
       "      <td>US PRESIDENT</td>\n",
       "      <td>AL GORE</td>\n",
       "      <td>DEMOCRAT</td>\n",
       "      <td>4942</td>\n",
       "      <td>17208</td>\n",
       "      <td>20220315</td>\n",
       "      <td>TOTAL</td>\n",
       "    </tr>\n",
       "    <tr>\n",
       "      <th>1</th>\n",
       "      <td>2000</td>\n",
       "      <td>ALABAMA</td>\n",
       "      <td>AL</td>\n",
       "      <td>AUTAUGA</td>\n",
       "      <td>1001.0</td>\n",
       "      <td>US PRESIDENT</td>\n",
       "      <td>GEORGE W. BUSH</td>\n",
       "      <td>REPUBLICAN</td>\n",
       "      <td>11993</td>\n",
       "      <td>17208</td>\n",
       "      <td>20220315</td>\n",
       "      <td>TOTAL</td>\n",
       "    </tr>\n",
       "    <tr>\n",
       "      <th>2</th>\n",
       "      <td>2000</td>\n",
       "      <td>ALABAMA</td>\n",
       "      <td>AL</td>\n",
       "      <td>AUTAUGA</td>\n",
       "      <td>1001.0</td>\n",
       "      <td>US PRESIDENT</td>\n",
       "      <td>RALPH NADER</td>\n",
       "      <td>GREEN</td>\n",
       "      <td>160</td>\n",
       "      <td>17208</td>\n",
       "      <td>20220315</td>\n",
       "      <td>TOTAL</td>\n",
       "    </tr>\n",
       "    <tr>\n",
       "      <th>3</th>\n",
       "      <td>2000</td>\n",
       "      <td>ALABAMA</td>\n",
       "      <td>AL</td>\n",
       "      <td>AUTAUGA</td>\n",
       "      <td>1001.0</td>\n",
       "      <td>US PRESIDENT</td>\n",
       "      <td>OTHER</td>\n",
       "      <td>OTHER</td>\n",
       "      <td>113</td>\n",
       "      <td>17208</td>\n",
       "      <td>20220315</td>\n",
       "      <td>TOTAL</td>\n",
       "    </tr>\n",
       "    <tr>\n",
       "      <th>4</th>\n",
       "      <td>2000</td>\n",
       "      <td>ALABAMA</td>\n",
       "      <td>AL</td>\n",
       "      <td>BALDWIN</td>\n",
       "      <td>1003.0</td>\n",
       "      <td>US PRESIDENT</td>\n",
       "      <td>AL GORE</td>\n",
       "      <td>DEMOCRAT</td>\n",
       "      <td>13997</td>\n",
       "      <td>56480</td>\n",
       "      <td>20220315</td>\n",
       "      <td>TOTAL</td>\n",
       "    </tr>\n",
       "  </tbody>\n",
       "</table>\n",
       "</div>"
      ],
      "text/plain": [
       "   year    state state_po county_name  county_fips        office  \\\n",
       "0  2000  ALABAMA       AL     AUTAUGA       1001.0  US PRESIDENT   \n",
       "1  2000  ALABAMA       AL     AUTAUGA       1001.0  US PRESIDENT   \n",
       "2  2000  ALABAMA       AL     AUTAUGA       1001.0  US PRESIDENT   \n",
       "3  2000  ALABAMA       AL     AUTAUGA       1001.0  US PRESIDENT   \n",
       "4  2000  ALABAMA       AL     BALDWIN       1003.0  US PRESIDENT   \n",
       "\n",
       "        candidate       party  candidatevotes  totalvotes   version   mode  \n",
       "0         AL GORE    DEMOCRAT            4942       17208  20220315  TOTAL  \n",
       "1  GEORGE W. BUSH  REPUBLICAN           11993       17208  20220315  TOTAL  \n",
       "2     RALPH NADER       GREEN             160       17208  20220315  TOTAL  \n",
       "3           OTHER       OTHER             113       17208  20220315  TOTAL  \n",
       "4         AL GORE    DEMOCRAT           13997       56480  20220315  TOTAL  "
      ]
     },
     "execution_count": 20,
     "metadata": {},
     "output_type": "execute_result"
    }
   ],
   "source": [
    "# Load the dataset\n",
    "data=pd.read_csv('countypres_2000-2020.csv')\n",
    "\n",
    "# Display the first few rows of the dataset to understand its structure\n",
    "data.head()"
   ]
  },
  {
   "cell_type": "markdown",
   "id": "874e0b8f-e8c0-4994-9874-65711053ad9f",
   "metadata": {},
   "source": [
    "Data Cleaning and Feature Engineering"
   ]
  },
  {
   "cell_type": "code",
   "execution_count": 21,
   "id": "ac731ba6-3d38-4065-967c-4f4d4ac9af07",
   "metadata": {},
   "outputs": [
    {
     "name": "stderr",
     "output_type": "stream",
     "text": [
      "C:\\Users\\bmaad\\AppData\\Local\\Temp\\ipykernel_22624\\2648203545.py:8: FutureWarning: The provided callable <built-in function max> is currently using SeriesGroupBy.max. In a future version of pandas, the provided callable will be used directly. To keep current behavior pass the string \"max\" instead.\n",
      "  data['dominant_party'] = data.groupby(['year', 'county_fips'])['candidatevotes'].transform(max) == data['candidatevotes']\n"
     ]
    }
   ],
   "source": [
    "# Drop any rows with missing 'county_fips' values\n",
    "data.dropna(subset=['county_fips'], inplace=True)\n",
    "\n",
    "# Filter for major party candidates (e.g., Democrat, Republican)\n",
    "data = data[data['party'].isin(['DEMOCRAT', 'REPUBLICAN'])]\n",
    "\n",
    "# Add a new column for 'dominant_party' per county and year\n",
    "data['dominant_party'] = data.groupby(['year', 'county_fips'])['candidatevotes'].transform(max) == data['candidatevotes']\n",
    "data['dominant_party'] = data.apply(lambda x: x['party'] if x['dominant_party'] else np.nan, axis=1)\n",
    "data['dominant_party'] = data.groupby(['year', 'county_fips'])['dominant_party'].ffill().bfill()\n",
    "\n",
    "# Calculate vote share as a percentage\n",
    "data['vote_share'] = data['candidatevotes'] / data['totalvotes'] * 100\n",
    "\n",
    "# Create feature for historical party dominance\n",
    "data['prev_dominance'] = data.groupby('county_fips')['dominant_party'].shift(1)"
   ]
  },
  {
   "cell_type": "markdown",
   "id": "b9827aeb-7189-4557-999c-e08b9f7df0c3",
   "metadata": {},
   "source": [
    "Visualize Shifts in Voting Patterns (EDA)"
   ]
  },
  {
   "cell_type": "code",
   "execution_count": 22,
   "id": "3615976f-fb3b-4b54-b4b5-585f6d95a696",
   "metadata": {},
   "outputs": [
    {
     "data": {
      "image/png": "[encoded data removed]",
      "text/plain": [
       "<Figure size 1400x700 with 1 Axes>"
      ]
     },
     "metadata": {},
     "output_type": "display_data"
    }
   ],
   "source": [
    "plt.figure(figsize=(14, 7))\n",
    "sns.countplot(data=data, x='year', hue='dominant_party', palette='coolwarm')\n",
    "plt.title('Party Dominance Over Time by Year')\n",
    "plt.show()"
   ]
  },
  {
   "cell_type": "markdown",
   "id": "c5e3be19-a7b4-472e-a753-0f89d4c3481e",
   "metadata": {},
   "source": [
    "Interpretation:\n",
    "Republican Dominance: Republicans have consistently held dominance in more counties than Democrats across all election years shown (2000, 2004, 2008, 2012, 2016, and 2020). This dominance is especially evident in 2020, where the count of Republican-dominated counties peaked.\n",
    "\n",
    "Democratic Stability: The number of Democrat-dominated counties remains relatively stable over the years, with only slight increases or decreases. This trend suggests that Democratic dominance is concentrated in fewer counties but remains steady over time.\n",
    "\n",
    "Trend Implications: The significant increase in Republican-dominated counties in 2020 might indicate a shift in certain counties towards the Republican party during that election cycle. This could be influenced by various socio-political factors that could be explored further.\n",
    "\n",
    "Predictive Insights: This data indicates that Republican dominance at the county level has increased over time. An interesting predictive modeling challenge would be to identify the factors driving this shift, potentially using socio-economic and demographic data for each county."
   ]
  },
  {
   "cell_type": "markdown",
   "id": "52e33d6f-8059-4bdc-b206-d86db2a62267",
   "metadata": {},
   "source": [
    "Prepare Data for Modeling"
   ]
  },
  {
   "cell_type": "code",
   "execution_count": 23,
   "id": "ec28cf43-12c7-465e-9c00-c14d360aed95",
   "metadata": {},
   "outputs": [
    {
     "ename": "KeyError",
     "evalue": "'dominant_party_encoded'",
     "output_type": "error",
     "traceback": [
      "\u001b[1;31m---------------------------------------------------------------------------\u001b[0m",
      "\u001b[1;31mKeyError\u001b[0m                                  Traceback (most recent call last)",
      "File \u001b[1;32m~\\anaconda3\\anakonda new\\Lib\\site-packages\\pandas\\core\\indexes\\base.py:3791\u001b[0m, in \u001b[0;36mIndex.get_loc\u001b[1;34m(self, key)\u001b[0m\n\u001b[0;32m   3790\u001b[0m \u001b[38;5;28;01mtry\u001b[39;00m:\n\u001b[1;32m-> 3791\u001b[0m     \u001b[38;5;28;01mreturn\u001b[39;00m \u001b[38;5;28mself\u001b[39m\u001b[38;5;241m.\u001b[39m_engine\u001b[38;5;241m.\u001b[39mget_loc(casted_key)\n\u001b[0;32m   3792\u001b[0m \u001b[38;5;28;01mexcept\u001b[39;00m \u001b[38;5;167;01mKeyError\u001b[39;00m \u001b[38;5;28;01mas\u001b[39;00m err:\n",
      "File \u001b[1;32mindex.pyx:152\u001b[0m, in \u001b[0;36mpandas._libs.index.IndexEngine.get_loc\u001b[1;34m()\u001b[0m\n",
      "File \u001b[1;32mindex.pyx:181\u001b[0m, in \u001b[0;36mpandas._libs.index.IndexEngine.get_loc\u001b[1;34m()\u001b[0m\n",
      "File \u001b[1;32mpandas\\_libs\\hashtable_class_helper.pxi:7080\u001b[0m, in \u001b[0;36mpandas._libs.hashtable.PyObjectHashTable.get_item\u001b[1;34m()\u001b[0m\n",
      "File \u001b[1;32mpandas\\_libs\\hashtable_class_helper.pxi:7088\u001b[0m, in \u001b[0;36mpandas._libs.hashtable.PyObjectHashTable.get_item\u001b[1;34m()\u001b[0m\n",
      "\u001b[1;31mKeyError\u001b[0m: 'dominant_party_encoded'",
      "\nThe above exception was the direct cause of the following exception:\n",
      "\u001b[1;31mKeyError\u001b[0m                                  Traceback (most recent call last)",
      "Cell \u001b[1;32mIn[23], line 6\u001b[0m\n\u001b[0;32m      4\u001b[0m \u001b[38;5;66;03m# Feature and target selection\u001b[39;00m\n\u001b[0;32m      5\u001b[0m X \u001b[38;5;241m=\u001b[39m data[[\u001b[38;5;124m'\u001b[39m\u001b[38;5;124myear\u001b[39m\u001b[38;5;124m'\u001b[39m, \u001b[38;5;124m'\u001b[39m\u001b[38;5;124mvote_share\u001b[39m\u001b[38;5;124m'\u001b[39m, \u001b[38;5;124m'\u001b[39m\u001b[38;5;124mprev_dominance_encoded\u001b[39m\u001b[38;5;124m'\u001b[39m]]\u001b[38;5;241m.\u001b[39mfillna(\u001b[38;5;241m0\u001b[39m)  \u001b[38;5;66;03m# replace missing with 0\u001b[39;00m\n\u001b[1;32m----> 6\u001b[0m y \u001b[38;5;241m=\u001b[39m data[\u001b[38;5;124m'\u001b[39m\u001b[38;5;124mdominant_party_encoded\u001b[39m\u001b[38;5;124m'\u001b[39m]\n\u001b[0;32m      8\u001b[0m \u001b[38;5;66;03m# Train-test split\u001b[39;00m\n\u001b[0;32m      9\u001b[0m X_train, X_test, y_train, y_test \u001b[38;5;241m=\u001b[39m train_test_split(X, y, test_size\u001b[38;5;241m=\u001b[39m\u001b[38;5;241m0.2\u001b[39m, random_state\u001b[38;5;241m=\u001b[39m\u001b[38;5;241m42\u001b[39m)\n",
      "File \u001b[1;32m~\\anaconda3\\anakonda new\\Lib\\site-packages\\pandas\\core\\frame.py:3893\u001b[0m, in \u001b[0;36mDataFrame.__getitem__\u001b[1;34m(self, key)\u001b[0m\n\u001b[0;32m   3891\u001b[0m \u001b[38;5;28;01mif\u001b[39;00m \u001b[38;5;28mself\u001b[39m\u001b[38;5;241m.\u001b[39mcolumns\u001b[38;5;241m.\u001b[39mnlevels \u001b[38;5;241m>\u001b[39m \u001b[38;5;241m1\u001b[39m:\n\u001b[0;32m   3892\u001b[0m     \u001b[38;5;28;01mreturn\u001b[39;00m \u001b[38;5;28mself\u001b[39m\u001b[38;5;241m.\u001b[39m_getitem_multilevel(key)\n\u001b[1;32m-> 3893\u001b[0m indexer \u001b[38;5;241m=\u001b[39m \u001b[38;5;28mself\u001b[39m\u001b[38;5;241m.\u001b[39mcolumns\u001b[38;5;241m.\u001b[39mget_loc(key)\n\u001b[0;32m   3894\u001b[0m \u001b[38;5;28;01mif\u001b[39;00m is_integer(indexer):\n\u001b[0;32m   3895\u001b[0m     indexer \u001b[38;5;241m=\u001b[39m [indexer]\n",
      "File \u001b[1;32m~\\anaconda3\\anakonda new\\Lib\\site-packages\\pandas\\core\\indexes\\base.py:3798\u001b[0m, in \u001b[0;36mIndex.get_loc\u001b[1;34m(self, key)\u001b[0m\n\u001b[0;32m   3793\u001b[0m     \u001b[38;5;28;01mif\u001b[39;00m \u001b[38;5;28misinstance\u001b[39m(casted_key, \u001b[38;5;28mslice\u001b[39m) \u001b[38;5;129;01mor\u001b[39;00m (\n\u001b[0;32m   3794\u001b[0m         \u001b[38;5;28misinstance\u001b[39m(casted_key, abc\u001b[38;5;241m.\u001b[39mIterable)\n\u001b[0;32m   3795\u001b[0m         \u001b[38;5;129;01mand\u001b[39;00m \u001b[38;5;28many\u001b[39m(\u001b[38;5;28misinstance\u001b[39m(x, \u001b[38;5;28mslice\u001b[39m) \u001b[38;5;28;01mfor\u001b[39;00m x \u001b[38;5;129;01min\u001b[39;00m casted_key)\n\u001b[0;32m   3796\u001b[0m     ):\n\u001b[0;32m   3797\u001b[0m         \u001b[38;5;28;01mraise\u001b[39;00m InvalidIndexError(key)\n\u001b[1;32m-> 3798\u001b[0m     \u001b[38;5;28;01mraise\u001b[39;00m \u001b[38;5;167;01mKeyError\u001b[39;00m(key) \u001b[38;5;28;01mfrom\u001b[39;00m \u001b[38;5;21;01merr\u001b[39;00m\n\u001b[0;32m   3799\u001b[0m \u001b[38;5;28;01mexcept\u001b[39;00m \u001b[38;5;167;01mTypeError\u001b[39;00m:\n\u001b[0;32m   3800\u001b[0m     \u001b[38;5;66;03m# If we have a listlike key, _check_indexing_error will raise\u001b[39;00m\n\u001b[0;32m   3801\u001b[0m     \u001b[38;5;66;03m#  InvalidIndexError. Otherwise we fall through and re-raise\u001b[39;00m\n\u001b[0;32m   3802\u001b[0m     \u001b[38;5;66;03m#  the TypeError.\u001b[39;00m\n\u001b[0;32m   3803\u001b[0m     \u001b[38;5;28mself\u001b[39m\u001b[38;5;241m.\u001b[39m_check_indexing_error(key)\n",
      "\u001b[1;31mKeyError\u001b[0m: 'dominant_party_encoded'"
     ]
    }
   ],
   "source": [
    "# Encode 'prev_dominance' as numeric values\n",
    "data['prev_dominance_encoded'] = label_encoder.fit_transform(data['prev_dominance'].astype(str))\n",
    "\n",
    "# Feature and target selection\n",
    "X = data[['year', 'vote_share', 'prev_dominance_encoded']].fillna(0)  # replace missing with 0\n",
    "y = data['dominant_party_encoded']\n",
    "\n",
    "# Train-test split\n",
    "X_train, X_test, y_train, y_test = train_test_split(X, y, test_size=0.2, random_state=42)\n",
    "\n",
    "# Scaling features\n",
    "scaler = StandardScaler()\n",
    "X_train_scaled = scaler.fit_transform(X_train)\n",
    "X_test_scaled = scaler.transform(X_test)"
   ]
  },
  {
   "cell_type": "markdown",
   "id": "345112c8-4836-4118-b415-7331e502f216",
   "metadata": {},
   "source": [
    "Build Machine Learning Models"
   ]
  },
  {
   "cell_type": "markdown",
   "id": "946e16d6-908e-48ae-b1c3-a5300bb7e966",
   "metadata": {},
   "source": [
    "Logistic Regression Model"
   ]
  },
  {
   "cell_type": "code",
   "execution_count": 13,
   "id": "9ab6c446-c36a-4c85-90e1-e393e9861ad6",
   "metadata": {},
   "outputs": [
    {
     "name": "stdout",
     "output_type": "stream",
     "text": [
      "Logistic Regression Results\n",
      "              precision    recall  f1-score   support\n",
      "\n",
      "           0       0.92      0.86      0.89      1708\n",
      "           1       0.96      0.98      0.97      6648\n",
      "\n",
      "    accuracy                           0.96      8356\n",
      "   macro avg       0.94      0.92      0.93      8356\n",
      "weighted avg       0.96      0.96      0.96      8356\n",
      "\n",
      "Accuracy: 0.9560794638583054\n"
     ]
    }
   ],
   "source": [
    "# Logistic Regression\n",
    "log_model = LogisticRegression(random_state=42)\n",
    "log_model.fit(X_train_scaled, y_train)\n",
    "log_pred = log_model.predict(X_test_scaled)\n",
    "\n",
    "# Evaluate\n",
    "print(\"Logistic Regression Results\")\n",
    "print(classification_report(y_test, log_pred))\n",
    "print(\"Accuracy:\", accuracy_score(y_test, log_pred))"
   ]
  },
  {
   "cell_type": "markdown",
   "id": "ca072d12-a296-4dd6-9a68-cdb44eabd69a",
   "metadata": {},
   "source": [
    "Interpretation of Logistic Regression Results\n",
    "Overall Accuracy: The logistic regression model achieved an accuracy of approximately 95.6%, indicating that it is highly effective at predicting the dominant party (Democrat or Republican) in a given county based on the features provided.\n",
    "\n",
    "Class Performance:\n",
    "\n",
    "Class 0 (Democrat):\n",
    "Precision: 92% of the predicted Democrat counties were correctly classified.\n",
    "Recall: The model correctly identified 86% of the actual Democrat-dominated counties.\n",
    "F1-score: The F1-score for Democrats is 0.89, showing a balanced performance but indicating that the model is slightly less effective at capturing Democrat-dominant counties compared to Republican ones.\n",
    "Class 1 (Republican):\n",
    "Precision: 96% of the predicted Republican counties were correct.\n",
    "Recall: The model correctly identified 98% of the actual Republican-dominated counties.\n",
    "F1-score: The F1-score for Republicans is very high at 0.97, indicating the model’s strong performance in capturing Republican dominance accurately.\n",
    "Imbalanced Performance: The model performs better for Republican-dominated counties than for Democrat-dominated ones. This difference could be due to the higher number of Republican-dominated counties in the dataset, which may have biased the model towards that class.\n",
    "\n",
    "Macro and Weighted Averages:\n",
    "\n",
    "Macro Average: The macro average shows precision, recall, and F1 scores around 0.93, reflecting the performance across both classes equally.\n",
    "Weighted Average: With a weighted average of approximately 0.96, this metric reinforces that the model performs well across the dataset but is more accurate for the majority class (Republican counties).\n",
    "Conclusion\n",
    "The logistic regression model is robust in predicting county-level party dominance, especially for Republican counties."
   ]
  },
  {
   "cell_type": "markdown",
   "id": "8f241482-b61d-47c0-b203-f78a45f5a6d9",
   "metadata": {},
   "source": [
    "Random forest classifier"
   ]
  },
  {
   "cell_type": "code",
   "execution_count": 14,
   "id": "958484cd-188b-4019-bea3-f62af19eb847",
   "metadata": {},
   "outputs": [
    {
     "name": "stdout",
     "output_type": "stream",
     "text": [
      "Random Forest Results\n",
      "              precision    recall  f1-score   support\n",
      "\n",
      "           0       0.90      0.90      0.90      1708\n",
      "           1       0.97      0.98      0.97      6648\n",
      "\n",
      "    accuracy                           0.96      8356\n",
      "   macro avg       0.94      0.94      0.94      8356\n",
      "weighted avg       0.96      0.96      0.96      8356\n",
      "\n",
      "Accuracy: 0.959191000478698\n"
     ]
    }
   ],
   "source": [
    "# Random Forest\n",
    "rf_model = RandomForestClassifier(random_state=42)\n",
    "rf_model.fit(X_train_scaled, y_train)\n",
    "rf_pred = rf_model.predict(X_test_scaled)\n",
    "\n",
    "# Evaluate\n",
    "print(\"Random Forest Results\")\n",
    "print(classification_report(y_test, rf_pred))\n",
    "print(\"Accuracy:\", accuracy_score(y_test, rf_pred))"
   ]
  },
  {
   "cell_type": "markdown",
   "id": "77fb35f2-8274-4030-a90c-1717c52cf21b",
   "metadata": {},
   "source": [
    "Interpretation of Random Forest Results\n",
    "Overall Accuracy: The Random Forest model achieved an accuracy of 95.9%, which is slightly higher than the logistic regression model's 95.6%. This high accuracy indicates that the Random Forest classifier is also effective in predicting the dominant political party in each county.\n",
    "\n",
    "Class Performance:\n",
    "\n",
    "Class 0 (Democrat):\n",
    "Precision: 90% of the counties predicted as Democrat were correctly classified.\n",
    "Recall: The model successfully identified 90% of the actual Democrat-dominated counties.\n",
    "F1-score: The F1-score for Democrats is 0.90, indicating balanced precision and recall for this class.\n",
    "Class 1 (Republican):\n",
    "Precision: 97% of the predicted Republican counties were accurate.\n",
    "Recall: The model identified 98% of the actual Republican-dominated counties.\n",
    "F1-score: The F1-score is very high at 0.97, showing strong performance in correctly predicting Republican counties.\n",
    "Balanced Performance: The Random Forest model shows a more balanced recall for both classes, with equal recall (90%) for Democrats as opposed to the logistic regression model’s slightly lower recall for this class. This suggests that the Random Forest model may be slightly better at handling class imbalances in this dataset.\n",
    "\n",
    "Macro and Weighted Averages:\n",
    "\n",
    "Macro Average: Precision, recall, and F1 scores are all around 0.94, reflecting good performance across both classes.\n",
    "Weighted Average: With a weighted average of approximately 0.96, the Random Forest model confirms strong accuracy across the dataset.\n",
    "Conclusion\n",
    "The Random Forest model performs slightly better than logistic regression, especially in its balanced treatment of both classes. It accurately captures party dominance trends and could be a suitable choice if interpretability is less important than performance."
   ]
  },
  {
   "cell_type": "markdown",
   "id": "9e469be6-5aaa-46d8-b055-67cf948964ba",
   "metadata": {},
   "source": [
    "Recurrent Neural Network (RNN) Model for Predictive Analysis"
   ]
  },
  {
   "cell_type": "code",
   "execution_count": 16,
   "id": "6a39ff03-6d68-4d8d-a083-2f164ea04f4a",
   "metadata": {},
   "outputs": [
    {
     "name": "stderr",
     "output_type": "stream",
     "text": [
      "C:\\Users\\bmaad\\anaconda3\\anakonda new\\Lib\\site-packages\\keras\\src\\layers\\rnn\\rnn.py:204: UserWarning: Do not pass an `input_shape`/`input_dim` argument to a layer. When using Sequential models, prefer using an `Input(shape)` object as the first layer in the model instead.\n",
      "  super().__init__(**kwargs)\n"
     ]
    },
    {
     "name": "stdout",
     "output_type": "stream",
     "text": [
      "Epoch 1/10\n",
      "\u001b[1m836/836\u001b[0m \u001b[32m━━━━━━━━━━━━━━━━━━━━\u001b[0m\u001b[37m\u001b[0m \u001b[1m7s\u001b[0m 4ms/step - accuracy: 0.9086 - loss: 0.4235 - val_accuracy: 0.9568 - val_loss: 0.1422\n",
      "Epoch 2/10\n",
      "\u001b[1m836/836\u001b[0m \u001b[32m━━━━━━━━━━━━━━━━━━━━\u001b[0m\u001b[37m\u001b[0m \u001b[1m2s\u001b[0m 3ms/step - accuracy: 0.9606 - loss: 0.1425 - val_accuracy: 0.9692 - val_loss: 0.1229\n",
      "Epoch 3/10\n",
      "\u001b[1m836/836\u001b[0m \u001b[32m━━━━━━━━━━━━━━━━━━━━\u001b[0m\u001b[37m\u001b[0m \u001b[1m2s\u001b[0m 3ms/step - accuracy: 0.9674 - loss: 0.1314 - val_accuracy: 0.9716 - val_loss: 0.1146\n",
      "Epoch 4/10\n",
      "\u001b[1m836/836\u001b[0m \u001b[32m━━━━━━━━━━━━━━━━━━━━\u001b[0m\u001b[37m\u001b[0m \u001b[1m2s\u001b[0m 2ms/step - accuracy: 0.9666 - loss: 0.1280 - val_accuracy: 0.9717 - val_loss: 0.1096\n",
      "Epoch 5/10\n",
      "\u001b[1m836/836\u001b[0m \u001b[32m━━━━━━━━━━━━━━━━━━━━\u001b[0m\u001b[37m\u001b[0m \u001b[1m2s\u001b[0m 3ms/step - accuracy: 0.9686 - loss: 0.1183 - val_accuracy: 0.9708 - val_loss: 0.1059\n",
      "Epoch 6/10\n",
      "\u001b[1m836/836\u001b[0m \u001b[32m━━━━━━━━━━━━━━━━━━━━\u001b[0m\u001b[37m\u001b[0m \u001b[1m2s\u001b[0m 3ms/step - accuracy: 0.9681 - loss: 0.1154 - val_accuracy: 0.9719 - val_loss: 0.1021\n",
      "Epoch 7/10\n",
      "\u001b[1m836/836\u001b[0m \u001b[32m━━━━━━━━━━━━━━━━━━━━\u001b[0m\u001b[37m\u001b[0m \u001b[1m2s\u001b[0m 3ms/step - accuracy: 0.9675 - loss: 0.1146 - val_accuracy: 0.9716 - val_loss: 0.0988\n",
      "Epoch 8/10\n",
      "\u001b[1m836/836\u001b[0m \u001b[32m━━━━━━━━━━━━━━━━━━━━\u001b[0m\u001b[37m\u001b[0m \u001b[1m2s\u001b[0m 3ms/step - accuracy: 0.9690 - loss: 0.1057 - val_accuracy: 0.9717 - val_loss: 0.0960\n",
      "Epoch 9/10\n",
      "\u001b[1m836/836\u001b[0m \u001b[32m━━━━━━━━━━━━━━━━━━━━\u001b[0m\u001b[37m\u001b[0m \u001b[1m3s\u001b[0m 3ms/step - accuracy: 0.9700 - loss: 0.1034 - val_accuracy: 0.9717 - val_loss: 0.0934\n",
      "Epoch 10/10\n",
      "\u001b[1m836/836\u001b[0m \u001b[32m━━━━━━━━━━━━━━━━━━━━\u001b[0m\u001b[37m\u001b[0m \u001b[1m2s\u001b[0m 3ms/step - accuracy: 0.9666 - loss: 0.1065 - val_accuracy: 0.9716 - val_loss: 0.0916\n",
      "\u001b[1m262/262\u001b[0m \u001b[32m━━━━━━━━━━━━━━━━━━━━\u001b[0m\u001b[37m\u001b[0m \u001b[1m1s\u001b[0m 2ms/step\n",
      "RNN Model Results\n",
      "              precision    recall  f1-score   support\n",
      "\n",
      "           0       0.93      0.93      0.93      1708\n",
      "           1       0.98      0.98      0.98      6648\n",
      "\n",
      "    accuracy                           0.97      8356\n",
      "   macro avg       0.96      0.95      0.96      8356\n",
      "weighted avg       0.97      0.97      0.97      8356\n",
      "\n",
      "Accuracy: 0.9707994255624701\n"
     ]
    }
   ],
   "source": [
    "from tensorflow.keras.models import Sequential\n",
    "from tensorflow.keras.layers import Dense, LSTM\n",
    "# Reshape data for RNN\n",
    "X_train_rnn = X_train_scaled.reshape((X_train_scaled.shape[0], 1, X_train_scaled.shape[1]))\n",
    "X_test_rnn = X_test_scaled.reshape((X_test_scaled.shape[0], 1, X_test_scaled.shape[1]))\n",
    "\n",
    "# Define RNN model\n",
    "rnn_model = Sequential()\n",
    "rnn_model.add(LSTM(50, activation='relu', input_shape=(X_train_rnn.shape[1], X_train_rnn.shape[2])))\n",
    "rnn_model.add(Dense(1, activation='sigmoid'))\n",
    "\n",
    "# Compile model\n",
    "rnn_model.compile(optimizer='adam', loss='binary_crossentropy', metrics=['accuracy'])\n",
    "\n",
    "# Train model\n",
    "rnn_model.fit(X_train_rnn, y_train, epochs=10, batch_size=32, validation_split=0.2)\n",
    "\n",
    "# Predict and evaluate\n",
    "rnn_pred = (rnn_model.predict(X_test_rnn) > 0.5).astype(\"int32\").flatten()\n",
    "\n",
    "print(\"RNN Model Results\")\n",
    "print(classification_report(y_test, rnn_pred))\n",
    "print(\"Accuracy:\", accuracy_score(y_test, rnn_pred))"
   ]
  },
  {
   "cell_type": "markdown",
   "id": "817a31c4-cc0d-4aa4-a05f-95f3cb971615",
   "metadata": {},
   "source": [
    "Interpretation of Recurrent Neural Network (RNN) Results\n",
    "Overall Accuracy: The RNN model achieved an accuracy of approximately 97.1%, which is the highest among the three models (Logistic Regression, Random Forest, and RNN). This suggests that the RNN model is very effective at predicting county-level political party dominance.\n",
    "\n",
    "Class Performance:\n",
    "\n",
    "Class 0 (Democrat):\n",
    "Precision: 93% of the counties predicted as Democrat were correctly classified.\n",
    "Recall: The model successfully identified 93% of the actual Democrat-dominated counties.\n",
    "F1-score: The F1-score for Democrats is 0.93, indicating consistent and balanced performance in identifying Democrat-dominant counties.\n",
    "Class 1 (Republican):\n",
    "Precision: 98% of the predicted Republican counties were accurate.\n",
    "Recall: The model successfully identified 98% of the actual Republican-dominated counties.\n",
    "F1-score: The F1-score for Republicans is very high at 0.98, reflecting the model’s strong performance in correctly predicting Republican counties.\n",
    "Macro and Weighted Averages:\n",
    "\n",
    "Macro Average: The macro averages for precision, recall, and F1-score are around 0.96, reflecting good performance across both classes.\n",
    "Weighted Average: With a weighted average of approximately 0.97, the RNN model confirms strong accuracy across the dataset and shows balanced performance in handling both classes.\n",
    "Comparison with Other Models: The RNN model outperformed both Logistic Regression and Random Forest in terms of accuracy, precision, recall, and F1-scores. This improvement suggests that the RNN was able to capture temporal dependencies and patterns in the data effectively. However, RNNs are generally more complex and computationally intensive, so they may require more resources for training and deployment.\n",
    "\n",
    "Conclusion\n",
    "The RNN model is highly effective in predicting political dominance by party at the county level, achieving the highest performance metrics among the tested models. This suggests that there may be subtle temporal patterns in the data that the RNN is capturing better than the other models."
   ]
  },
  {
   "cell_type": "markdown",
   "id": "4342dc5f-a6c1-4cd2-a400-19afcca6868e",
   "metadata": {},
   "source": [
    "Interpret Results and Model Performance"
   ]
  },
  {
   "cell_type": "code",
   "execution_count": 17,
   "id": "073d0d42-cefd-4e67-882c-3b0b72497867",
   "metadata": {},
   "outputs": [
    {
     "data": {
      "image/png": "[encoded data removed]",
      "text/plain": [
       "<Figure size 640x480 with 2 Axes>"
      ]
     },
     "metadata": {},
     "output_type": "display_data"
    },
    {
     "data": {
      "image/png": "[encoded data removed]",
      "text/plain": [
       "<Figure size 640x480 with 2 Axes>"
      ]
     },
     "metadata": {},
     "output_type": "display_data"
    },
    {
     "data": {
      "image/png": "[encoded data removed]",
      "text/plain": [
       "<Figure size 640x480 with 2 Axes>"
      ]
     },
     "metadata": {},
     "output_type": "display_data"
    }
   ],
   "source": [
    "# Confusion Matrix for Logistic Regression\n",
    "conf_matrix_log = confusion_matrix(y_test, log_pred)\n",
    "sns.heatmap(conf_matrix_log, annot=True, fmt=\"d\")\n",
    "plt.title('Confusion Matrix for Logistic Regression')\n",
    "plt.show()\n",
    "\n",
    "# Confusion Matrix for Random Forest\n",
    "conf_matrix_rf = confusion_matrix(y_test, rf_pred)\n",
    "sns.heatmap(conf_matrix_rf, annot=True, fmt=\"d\")\n",
    "plt.title('Confusion Matrix for Random Forest')\n",
    "plt.show()\n",
    "\n",
    "# Confusion Matrix for RNN\n",
    "conf_matrix_rnn = confusion_matrix(y_test, rnn_pred)\n",
    "sns.heatmap(conf_matrix_rnn, annot=True, fmt=\"d\")\n",
    "plt.title('Confusion Matrix for RNN')\n",
    "plt.show()"
   ]
  },
  {
   "cell_type": "markdown",
   "id": "76122006-d0e7-4531-957c-237648b04f9a",
   "metadata": {},
   "source": [
    "Final Interpretation:\n",
    "1. Confusion Matrix for Logistic Regression\n",
    "True Positives (Class 1 - Republican): 6,401\n",
    "True Negatives (Class 0 - Democrat): 1,461\n",
    "False Positives: 247 (Democrat counties incorrectly predicted as Republican)\n",
    "False Negatives: 247 (Republican counties incorrectly predicted as Democrat)\n",
    "Interpretation: The logistic regression model has a strong performance, particularly for Republican counties, as evidenced by the high true positive count. However, it shows a slightly higher number of false positives, misclassifying Democrat-dominant counties as Republican.\n",
    "\n",
    "2. Confusion Matrix for Random Forest\n",
    "True Positives (Class 1 - Republican): 6,469\n",
    "True Negatives (Class 0 - Democrat): 1,529\n",
    "False Positives: 179\n",
    "False Negatives: 179\n",
    "Interpretation: The Random Forest model improves on the logistic regression by reducing both false positives and false negatives, resulting in higher accuracy for Democrat counties. It has a more balanced performance between both classes, making it slightly better for predicting both Republican and Democrat counties accurately.\n",
    "\n",
    "3. Confusion Matrix for RNN\n",
    "True Positives (Class 1 - Republican): 6,525\n",
    "True Negatives (Class 0 - Democrat): 1,585\n",
    "False Positives: 123\n",
    "False Negatives: 123\n",
    "Interpretation: The RNN model performs the best among the three, with the lowest number of false positives and false negatives. This indicates that the RNN captures temporal patterns and dependencies more effectively, leading to more accurate predictions for both classes.\n",
    "\n",
    "Summary\n",
    "The RNN model outperforms Logistic Regression and Random Forest, showing greater accuracy in identifying both Democrat and Republican counties. The progressive improvement across the models suggests that the RNN’s ability to capture patterns over time has been beneficial in handling the complexity of this dataset. "
   ]
  }
 ],
 "metadata": {
  "kernelspec": {
   "display_name": "Python 3 (ipykernel)",
   "language": "python",
   "name": "python3"
  },
  "language_info": {
   "codemirror_mode": {
    "name": "ipython",
    "version": 3
   },
   "file_extension": ".py",
   "mimetype": "text/x-python",
   "name": "python",
   "nbconvert_exporter": "python",
   "pygments_lexer": "ipython3",
   "version": "3.11.7"
  }
 },
 "nbformat": 4,
 "nbformat_minor": 5
}
